{
 "cells": [
  {
   "cell_type": "markdown",
   "metadata": {},
   "source": [
    "# DAMIC100 Efficiency notebook"
   ]
  },
  {
   "cell_type": "markdown",
   "metadata": {},
   "source": [
    "This notebook sums up the study about the efficiency calculation. It includes the processing steps and the cuts made to compute the efficiency. \n"
   ]
  },
  {
   "cell_type": "markdown",
   "metadata": {},
   "source": [
    "## processing"
   ]
  },
  {
   "cell_type": "code",
   "execution_count": null,
   "metadata": {},
   "outputs": [],
   "source": []
  },
  {
   "cell_type": "markdown",
   "metadata": {},
   "source": [
    "## analysis"
   ]
  },
  {
   "cell_type": "code",
   "execution_count": 1,
   "metadata": {},
   "outputs": [],
   "source": [
    "# import part\n",
    "import pandas as pd \n",
    "import matplotlib.pyplot as plt \n",
    "import numpy as np \n"
   ]
  },
  {
   "cell_type": "markdown",
   "metadata": {},
   "source": [
    "### import of the data:"
   ]
  },
  {
   "cell_type": "markdown",
   "metadata": {},
   "source": [
    "The data were processed in several runs, we import them one by one and combine them"
   ]
  },
  {
   "cell_type": "code",
   "execution_count": 2,
   "metadata": {},
   "outputs": [],
   "source": [
    "dfrun1rec = pd.read_pickle('/Users/gaior/DAMIC/code/efficiency/20200515/run1/pkl/run1.pkl')\n",
    "dfrun1sim = pd.read_pickle('/Users/gaior/DAMIC/code/efficiency/20200515/run1/pkl/run1_sim.pkl')\n",
    "\n",
    "dfrun2rec = pd.read_pickle('/Users/gaior/DAMIC/code/efficiency/20200515/run2/pkl/run2.pkl')\n",
    "dfrun2sim = pd.read_pickle('/Users/gaior/DAMIC/code/efficiency/20200515/run2/pkl/run2_sim.pkl')\n",
    "\n",
    "dfrun3rec = pd.read_pickle('/Users/gaior/DAMIC/code/efficiency/20200515/run3/pkl/run3.pkl')\n",
    "dfrun3sim = pd.read_pickle('/Users/gaior/DAMIC/code/efficiency/20200515/run3/pkl/run3_sim.pkl')\n"
   ]
  },
  {
   "cell_type": "code",
   "execution_count": 3,
   "metadata": {},
   "outputs": [],
   "source": [
    "# merge the files:\n",
    "dfall = pd.concat([dfrun1rec, dfrun2rec, dfrun3rec])\n",
    "dfallsim = pd.concat([dfrun1sim, dfrun2sim, dfrun3sim])\n",
    "#print (dfall.shape[0])"
   ]
  },
  {
   "cell_type": "code",
   "execution_count": 4,
   "metadata": {},
   "outputs": [],
   "source": [
    "recpositioncut = 'centery < 42 & centery > 1 & (centerx < 8250 & centerx > 4400) & (simdistx == 0 | (simdistx > 5) & (simdisty > 2) )'\n",
    "simpositioncut = 'simy < 42 & simy > 1 & (simx < 8250 & simx > 4400) & ((simdistx > 5) & (simdisty > 2) )'\n",
    "maskcut = 'is_masked == 0 & touchmask == 0 & success ==1'\n",
    "llcut = 'll_14 < 90'\n",
    "qmaxcut = 'qmax/(ene1*1000./3.77) > 0.2'\n",
    "basecuts = maskcut + ' & ' +  llcut+ ' & ' +  qmaxcut\n",
    "radoncut = \" (RUNID<2564 | RUNID>2566) &  (RUNID< 2902 | RUNID> 2903) & (RUNID<3267 | RUNID>3336) & (RUNID<3353 | RUNID>3419) & (RUNID<3654 \\\n",
    "| RUNID> 3657) & (RUNID<3764 | RUNID>3767) & (RUNID<3826 | RUNID>3853) & (RUNID<3868 | RUNID>3874) & (RUNID<3913 | RUNID>3921) & (RUNID<4003\\\n",
    " | RUNID > 4007) & (RUNID<4207 | RUNID > 4212)\"\n",
    "badimage = 'RUNID!=2473 & RUNID!=2479 & RUNID!=2482 & RUNID!=2559 & RUNID!=2577 & RUNID!=2611 & RUNID!=2623  & RUNID!=2829 & RUNID!=2843 & R\\\n",
    "UNID!=2849 & RUNID!=2853 &  RUNID!=2902 & RUNID!=2927 & RUNID !=3003 & RUNID!=3011 & RUNID!=3018 & RUNID!=3020 & RUNID!=3059 & RUNID!=3112 &\\\n",
    " RUNID!=3203 & RUNID!=3250 & RUNID!=3332 & RUNID!=3345 & RUNID!=3417 & RUNID!=3453 & RUNID!=3473 & RUNID!=3483 & RUNID!=3536 & RUNID!=3545 &\\\n",
    " RUNID!=3584 & RUNID!=3634 & RUNID!=3636 & RUNID!=3637 & RUNID!=3638 & RUNID!=3639 & RUNID!=3654 & RUNID!=3655 & RUNID!=3656 & RUNID!=3685  \\\n",
    "& RUNID!=3698 & RUNID!=3707 & RUNID!=3751 & RUNID!=3807 & RUNID!=3852 & RUNID!=3905 & RUNID!=3931 & RUNID!=3958 & RUNID!=4011 & RUNID!=4044 \\\n",
    "& RUNID!=4074 & RUNID!=4083 & RUNID!=4127'\n",
    "\n",
    "\n",
    "negativepixelimage = '(RUNID!=3024 | EXTID!=11) &(RUNID!=3029 | EXTID!=11) & (RUNID!=3029 | EXTID!=12)  & (RUNID!=3125 | EXTID!=11) & (RUNID\\\n",
    "!=3125 | EXTID!=12) &(RUNID!=3126 | EXTID!=11) & (RUNID!=3126 | EXTID!=12) & (RUNID!=3537 | EXTID!=2) & (RUNID!=3537 | EXTID!=12)  & (RUNID!\\\n",
    "=3538 | EXTID!=2) & (RUNID!=3538 | EXTID!=12)  & (RUNID!=3539 | EXTID!=2) & (RUNID!=3539 | EXTID!=12)  & (RUNID!=3540 | EXTID!=2) &(RUNID!=3\\\n",
    "540 | EXTID!=12) &(RUNID!=3541 | EXTID!=2) & (RUNID!=3541 | EXTID!=12) &  (RUNID!=3542 | EXTID!=2) & (RUNID!=3542 | EXTID!=12) & (RUNID!=354\\\n",
    "3 | EXTID!=2) & (RUNID!=3543 | EXTID!=12) & (RUNID!=3544 | EXTID!=2) & (RUNID!=3546 | EXTID!=12) & (RUNID!=3548 | EXTID!=12) & (RUNID!=3598 \\\n",
    "| EXTID!=12) &(RUNID!=3657 | EXTID!=4) & (RUNID!=3657| EXTID!=6) & (RUNID!=3657 | EXTID!=11) & (RUNID!=3657 | EXTID!=12)'\n",
    "\n"
   ]
  },
  {
   "cell_type": "code",
   "execution_count": 5,
   "metadata": {},
   "outputs": [
    {
     "data": {
      "text/plain": [
       "Index(['RUNID', 'EXTID', 'EXPSTART', 'EXPTIME', 'efact', 'nvalidpix', 'cid',\n",
       "       'centerx', 'centery', 'linlength', 'is_masked', 'sadc', 'qguess',\n",
       "       'sguess', 'oguessg', 'oguessc', 'llg', 'llc', 'success', 'status', 'll',\n",
       "       'll_enlarg', 'llc_enlarg', 'll_14', 'llc_14', 'meanx', 'meanx_err',\n",
       "       'sigma', 'sigma_err', 'efit', 'qbase', 'qbase_err', 'npix', 'npix1p6',\n",
       "       'npix2', 'npix2p5', 'npix4', 'gmeanx', 'gmeanx_err', 'gsigma',\n",
       "       'gsigma_err', 'gbase', 'gbase_err', 'gnorm', 'gnorm_err', 'gene',\n",
       "       'gchi2', 'gll', 'cbase', 'cbase_err', 'cchi2', 'cll', 'ene1',\n",
       "       'ene_integ', 'prob', 'chi2g', 'chi2c', 'qmax', 'qdelta_dx', 'qdelta_sx',\n",
       "       'touchmask', 'is_premasked', 'sime', 'simz', 'simx', 'simy', 'simn',\n",
       "       'simdistx', 'simdisty', 'multirows', 'dll'],\n",
       "      dtype='object')"
      ]
     },
     "execution_count": 5,
     "metadata": {},
     "output_type": "execute_result"
    }
   ],
   "source": [
    "dfall.columns"
   ]
  },
  {
   "cell_type": "code",
   "execution_count": 6,
   "metadata": {},
   "outputs": [],
   "source": [
    "dfall = dfall.query(negativepixelimage)\n",
    "dfallsim = dfallsim.query(negativepixelimage)\n",
    "dfall = dfall.query(radoncut)\n",
    "dfallsim = dfallsim.query(radoncut)\n",
    "dfall = dfall.query(badimage)\n",
    "dfallsim = dfallsim.query(badimage)\n",
    "\n",
    "dfall = dfall.query(basecuts)\n",
    "dfall = dfall.query(recpositioncut + ' & multirows == 0')\n",
    "dfallsim = dfallsim.query(simpositioncut)\n"
   ]
  },
  {
   "cell_type": "code",
   "execution_count": 7,
   "metadata": {},
   "outputs": [],
   "source": [
    "# function definition of the efficiency calculation:\n",
    "def geteff(dfrec, dfsim, bins, cutrec, cutsim):    \n",
    "    dfsel = dfrec.query(cutrec)   \n",
    "    dfsel_ri = dfsel.reset_index()\n",
    "    dfsel_ri['ebinned'] = pd.cut(dfsel_ri['ene1'],bins)\n",
    "    ebinned = dfsel_ri.groupby('ebinned') \n",
    "    dfselsim = dfsim.query(cutsim)\n",
    "    dfselsim_ri = dfselsim.reset_index()\n",
    "\n",
    "    dfselsim_ri['ebinned'] = pd.cut(dfselsim_ri['sime'],bins)\n",
    "    ebinnedsim = dfselsim_ri.groupby('ebinned')\n",
    "\n",
    "    recnr = ebinned.count().ene1.values\n",
    "    simnr = ebinnedsim.count().sime.values\n",
    "    eff = recnr/simnr\n",
    "    err_eff = eff_errors(recnr, simnr, 'poisson')\n",
    "    cbins = (bins[1:] + bins[:-1]) /2\n",
    "    return [cbins,eff,err_eff]\n",
    "\n",
    "\n",
    "def geteffsim(dfrec, dfsim, bins, cutrec, cutsim):    \n",
    "    dfsel = dfrec\n",
    "    dfselsim = dfsim\n",
    "    dfsel = dfsel.query(cutrec + \"& sime >0\")\n",
    "    dfsel = dfsel.reset_index()\n",
    "    dfsel['ebinned'] = pd.cut(dfsel['sime'],bins)\n",
    "    ebinnedrec = dfsel.groupby('ebinned') \n",
    "    \n",
    "    recnr = ebinnedrec.size().values\n",
    "    \n",
    "    dfselsim = dfselsim.query(cutsim)\n",
    "    dfselsim = dfselsim.reset_index()\n",
    "    dfselsim['ebinned'] = pd.cut(dfselsim['sime'],bins)\n",
    "    ebinnedsim = dfselsim.groupby('ebinned')\n",
    "    simnr = ebinnedsim.size().values\n",
    "    \n",
    "#    print(simnr)    \n",
    "    eff = recnr/simnr\n",
    "    #print (eff)\n",
    "    err_eff = eff_errors(recnr, simnr, 'poisson')\n",
    "    cbins = (bins[1:] + bins[:-1]) /2\n",
    "    return [cbins,eff,err_eff]\n",
    "\n",
    "\n",
    "\n",
    "def eff_errors(k, N, method):\n",
    "    k = k.astype(float)\n",
    "    N = N.astype(float)\n",
    "    if method == 'binomial':\n",
    "        return (1/N)*np.sqrt(k*(1-(k/N) ))\n",
    "    if method == 'poisson':\n",
    "        return np.sqrt( (k*(N+k))/N**3 )\n",
    "    if method == 'bayes':\n",
    "        return np.sqrt( ((k+1)*(k+2)) / ((N+2)*(N+3)) - (k+1)**2/(N+2)**2 )\n"
   ]
  },
  {
   "cell_type": "code",
   "execution_count": 8,
   "metadata": {},
   "outputs": [],
   "source": [
    "bins = np.linspace(0.03,1,50)\n",
    "dfrec = dfall.copy()\n",
    "dfsim = dfallsim.copy()\n",
    "#[cbins, eff_p, err_eff_p] = geteff(dfrec,dfsim,bins,\"RUNID!=0\",\"RUNID!=0\")\n",
    "#[cbins, eff_r, err_eff_r] = geteffsim(dfrec,dfsim,bins,\"RUNID!=0\",\"RUNID!=0\")\n",
    "#print (dfrec.shape[0])"
   ]
  },
  {
   "cell_type": "code",
   "execution_count": 9,
   "metadata": {},
   "outputs": [],
   "source": [
    "# plt.errorbar(cbins,eff_p,yerr=err_eff_p,label='rec')\n",
    "# plt.errorbar(cbins,eff_r,yerr=err_eff_r,label='sim')\n",
    "# plt.xlabel('energy ene1 [keV]')\n",
    "# plt.ylabel('efficiency')\n",
    "# plt.legend()\n",
    "# plt.show()"
   ]
  },
  {
   "cell_type": "code",
   "execution_count": 10,
   "metadata": {},
   "outputs": [
    {
     "name": "stdout",
     "output_type": "stream",
     "text": [
      "[0.0733799254, 74.4618389, 0.0472489658, -0.00111708055, 0.928825553, 0.0459657114, 2.15910338]\n"
     ]
    }
   ],
   "source": [
    "def eff_function(x,a,b,c,d,e,f,g):\n",
    "    eff = (1./(1+np.exp(-(x-a)*b))  - c ) *((d*x +e)+(f*np.exp(-g*x)))\n",
    "    return eff\n",
    "oldparam = [7.33799254e-02, 7.44618389e+01, 4.72489658e-02, -1.11708055e-03,9.28825553e-01,  4.59657114e-02,  2.15910338e+00]\n",
    "print (oldparam)\n",
    "#plt.plot(cbins,eff_function(cbins,*oldparam) )\n",
    "#plt.show()\n"
   ]
  },
  {
   "cell_type": "code",
   "execution_count": 11,
   "metadata": {},
   "outputs": [
    {
     "data": {
      "text/plain": [
       "[array([0.04332215, 0.06996644, 0.09661074, 0.12325503, 0.14989933,\n",
       "        0.17654362, 0.20318792, 0.22983221, 0.25647651, 0.28312081,\n",
       "        0.3097651 , 0.3364094 , 0.36305369, 0.38969799, 0.41634228,\n",
       "        0.44298658, 0.46963087, 0.49627517, 0.52291946, 0.54956376,\n",
       "        0.57620805, 0.60285235, 0.62949664, 0.65614094, 0.68278523,\n",
       "        0.70942953, 0.73607383, 0.76271812, 0.78936242, 0.81600671,\n",
       "        0.84265101, 0.8692953 , 0.8959396 , 0.92258389, 0.94922819,\n",
       "        0.97587248, 1.00251678, 1.02916107, 1.05580537, 1.08244966,\n",
       "        1.10909396, 1.13573826, 1.16238255, 1.18902685, 1.21567114,\n",
       "        1.24231544, 1.26895973, 1.29560403, 1.32224832, 1.34889262,\n",
       "        1.37553691, 1.40218121, 1.4288255 , 1.4554698 , 1.48211409,\n",
       "        1.50875839, 1.53540268, 1.56204698, 1.58869128, 1.61533557,\n",
       "        1.64197987, 1.66862416, 1.69526846, 1.72191275, 1.74855705,\n",
       "        1.77520134, 1.80184564, 1.82848993, 1.85513423, 1.88177852,\n",
       "        1.90842282, 1.93506711, 1.96171141, 1.9883557 , 2.015     ,\n",
       "        2.0416443 , 2.06828859, 2.09493289, 2.12157718, 2.14822148,\n",
       "        2.17486577, 2.20151007, 2.22815436, 2.25479866, 2.28144295,\n",
       "        2.30808725, 2.33473154, 2.36137584, 2.38802013, 2.41466443,\n",
       "        2.44130872, 2.46795302, 2.49459732, 2.52124161, 2.54788591,\n",
       "        2.5745302 , 2.6011745 , 2.62781879, 2.65446309, 2.68110738,\n",
       "        2.70775168, 2.73439597, 2.76104027, 2.78768456, 2.81432886,\n",
       "        2.84097315, 2.86761745, 2.89426174, 2.92090604, 2.94755034,\n",
       "        2.97419463, 3.00083893, 3.02748322, 3.05412752, 3.08077181,\n",
       "        3.10741611, 3.1340604 , 3.1607047 , 3.18734899, 3.21399329,\n",
       "        3.24063758, 3.26728188, 3.29392617, 3.32057047, 3.34721477,\n",
       "        3.37385906, 3.40050336, 3.42714765, 3.45379195, 3.48043624,\n",
       "        3.50708054, 3.53372483, 3.56036913, 3.58701342, 3.61365772,\n",
       "        3.64030201, 3.66694631, 3.6935906 , 3.7202349 , 3.74687919,\n",
       "        3.77352349, 3.80016779, 3.82681208, 3.85345638, 3.88010067,\n",
       "        3.90674497, 3.93338926, 3.96003356, 3.98667785]),\n",
       " array([0.03746203, 0.38149764, 0.78264908, 0.92252396, 0.93096897,\n",
       "        0.92340516, 0.92700382, 0.92571286, 0.933281  , 0.92735278,\n",
       "        0.93126953, 0.92412567, 0.91476159, 0.92091571, 0.92503536,\n",
       "        0.91451069, 0.92536705, 0.92411601, 0.91893204, 0.91863905,\n",
       "        0.92864173, 0.92433315, 0.91872982, 0.92294521, 0.93205575,\n",
       "        0.9248366 , 0.92238392, 0.91422445, 0.92068429, 0.930266  ,\n",
       "        0.91036003, 0.92133009, 0.91482112, 0.91342756, 0.90699734,\n",
       "        0.91603774, 0.89941973, 0.875     , 0.90714286, 0.94701987,\n",
       "        0.9375    , 0.89051095, 0.88590604, 0.87591241, 0.94690265,\n",
       "        0.87417219, 0.91729323, 0.89041096, 0.93617021, 0.87681159,\n",
       "        0.94444444, 0.89032258, 0.96062992, 0.875     , 0.94594595,\n",
       "        0.9057971 , 0.88636364, 0.88811189, 0.89208633, 0.91549296,\n",
       "        0.89795918, 0.87826087, 0.92957746, 0.92307692, 0.93567251,\n",
       "        0.87919463, 0.92      , 0.93251534, 0.89285714, 0.85606061,\n",
       "        0.94354839, 0.9084507 , 0.85826772, 0.93793103, 0.89261745,\n",
       "        0.87301587, 0.88194444, 0.89361702, 0.95172414, 0.89115646,\n",
       "        0.89189189, 0.91216216, 0.93382353, 0.89393939, 0.88888889,\n",
       "        0.93700787, 0.88321168, 0.88732394, 0.8677686 , 0.90066225,\n",
       "        0.87741935, 0.8974359 , 0.89344262, 0.92086331, 0.89781022,\n",
       "        0.888     , 0.89726027, 0.9       , 0.8852459 , 0.91911765,\n",
       "        0.9140625 , 0.91447368, 0.88095238, 0.91558442, 0.93918919,\n",
       "        0.91428571, 0.86428571, 0.87903226, 0.92805755, 0.875     ,\n",
       "        0.9469697 , 0.92517007, 0.91176471, 0.91666667, 0.87313433,\n",
       "        0.92207792, 0.88028169, 0.91489362, 0.8968254 , 0.94117647,\n",
       "        0.8962963 , 0.92567568, 0.85507246, 0.93251534, 0.90604027,\n",
       "        0.93220339, 0.9140625 , 0.88652482, 0.93464052, 0.8515625 ,\n",
       "        0.89655172, 0.87301587, 0.97037037, 0.8590604 , 0.88125   ,\n",
       "        0.89473684, 0.91608392, 0.90322581, 0.91194969, 0.9296875 ,\n",
       "        0.90909091, 0.8807947 , 0.9       , 0.92857143, 0.859375  ,\n",
       "        0.86764706, 0.93251534, 0.86507937, 0.92741935]),\n",
       " array([0.00256095, 0.00978725, 0.0160992 , 0.01881883, 0.01948066,\n",
       "        0.01946633, 0.02064293, 0.02111604, 0.02172743, 0.0221774 ,\n",
       "        0.02260092, 0.02295671, 0.02391711, 0.0247709 , 0.02509336,\n",
       "        0.02562193, 0.02695588, 0.02657892, 0.02925755, 0.02948052,\n",
       "        0.02968848, 0.03111715, 0.03080193, 0.03182763, 0.03233808,\n",
       "        0.03411016, 0.03505442, 0.03536828, 0.03708198, 0.03592929,\n",
       "        0.03574663, 0.03789022, 0.03862764, 0.03929342, 0.03914092,\n",
       "        0.04069169, 0.05748392, 0.10673907, 0.11116433, 0.11050356,\n",
       "        0.11912461, 0.11085338, 0.10589141, 0.10951569, 0.12772784,\n",
       "        0.10416331, 0.1149933 , 0.10737346, 0.11338083, 0.10920033,\n",
       "        0.1064703 , 0.10420194, 0.12177945, 0.10673907, 0.11152383,\n",
       "        0.1118444 , 0.11254643, 0.10828784, 0.11019617, 0.11112803,\n",
       "        0.10767455, 0.119768  , 0.11239053, 0.11141643, 0.10291527,\n",
       "        0.10530167, 0.10851728, 0.1051467 , 0.10987171, 0.10971383,\n",
       "        0.1216099 , 0.11049611, 0.11206337, 0.11196199, 0.10648072,\n",
       "        0.1139191 , 0.10736007, 0.10954996, 0.11318288, 0.10707351,\n",
       "        0.10677594, 0.10855942, 0.11523154, 0.1132531 , 0.10180508,\n",
       "        0.11954611, 0.1101848 , 0.10859758, 0.11573662, 0.10647435,\n",
       "        0.10309044, 0.10447755, 0.11775504, 0.11280761, 0.11152144,\n",
       "        0.11581171, 0.10798073, 0.11051826, 0.11695965, 0.1138851 ,\n",
       "        0.11691252, 0.10732194, 0.11467793, 0.10671844, 0.11093173,\n",
       "        0.11180992, 0.10728052, 0.11541405, 0.11345929, 0.10673907,\n",
       "        0.11818454, 0.11007449, 0.11321114, 0.11045815, 0.11047718,\n",
       "        0.10727757, 0.10796379, 0.11146745, 0.11619364, 0.10927538,\n",
       "        0.11220495, 0.10974636, 0.10721174, 0.1051467 , 0.10765809,\n",
       "        0.12354943, 0.11691252, 0.10890985, 0.10871181, 0.11098709,\n",
       "        0.10828942, 0.1139191 , 0.11900791, 0.10352982, 0.10179181,\n",
       "        0.11290061, 0.11079161, 0.10531191, 0.10471891, 0.11838781,\n",
       "        0.11016635, 0.10474169, 0.10338037, 0.11309971, 0.11173002,\n",
       "        0.10915647, 0.1051467 , 0.11315959, 0.1200647 ])]"
      ]
     },
     "execution_count": 11,
     "metadata": {},
     "output_type": "execute_result"
    }
   ],
   "source": [
    "bins = np.linspace(0.03,4,150)\n",
    "dfrec = dfall.copy()\n",
    "dfsim = dfallsim.copy()\n",
    "\n",
    "#geteffsim(dfrec,dfsim,bins,\"dll< -22\",\"RUNID!=0\")\n",
    "[cbins, eff_r, err_eff_r] = geteffsim(dfrec,dfsim,bins,\"dll< -22\",\"RUNID!=0\")\n",
    "[cbins, eff_r2, err_eff_r2] = geteffsim(dfrec,dfsim,bins,\"dll< -22  & npix1p6 >1\",\"RUNID!=0\")\n",
    "\n",
    "\n",
    "plt.errorbar(cbins,eff_r, yerr=err_eff_r,label='22')\n",
    "plt.errorbar(cbins,eff_r2, yerr=err_eff_r2,label='22')\n",
    "\n",
    "#plt.errorbar(cbins,eff_26,yerr=err_eff_26,label='dll < -22 npix1p6')\n",
    "plt.plot(cbins,eff_function(cbins,*oldparam) )\n",
    "plt.xlim(0,3)\n",
    "plt.ylim(0.8,0.95)"
   ]
  },
  {
   "cell_type": "code",
   "execution_count": null,
   "metadata": {},
   "outputs": [],
   "source": []
  },
  {
   "cell_type": "code",
   "execution_count": null,
   "metadata": {},
   "outputs": [],
   "source": []
  },
  {
   "cell_type": "code",
   "execution_count": null,
   "metadata": {},
   "outputs": [],
   "source": []
  },
  {
   "cell_type": "code",
   "execution_count": null,
   "metadata": {},
   "outputs": [],
   "source": []
  }
 ],
 "metadata": {
  "kernelspec": {
   "display_name": "Python 3.7.6 64-bit ('anaconda3': conda)",
   "language": "python",
   "name": "python37664bitanaconda3conda1274412125c34fff86e5114a53760f48"
  },
  "language_info": {
   "codemirror_mode": {
    "name": "ipython",
    "version": 3
   },
   "file_extension": ".py",
   "mimetype": "text/x-python",
   "name": "python",
   "nbconvert_exporter": "python",
   "pygments_lexer": "ipython3",
   "version": "3.7.6"
  }
 },
 "nbformat": 4,
 "nbformat_minor": 2
}
